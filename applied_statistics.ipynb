{
  "nbformat": 4,
  "nbformat_minor": 0,
  "metadata": {
    "colab": {
      "provenance": [],
      "authorship_tag": "ABX9TyPR0/U9QBVK1wd7YCwShMTt",
      "include_colab_link": true
    },
    "kernelspec": {
      "name": "python3",
      "display_name": "Python 3"
    },
    "language_info": {
      "name": "python"
    }
  },
  "cells": [
    {
      "cell_type": "markdown",
      "metadata": {
        "id": "view-in-github",
        "colab_type": "text"
      },
      "source": [
        "<a href=\"https://colab.research.google.com/github/srivakshay/pgpaiml/blob/PGPAIML/applied_statistics.ipynb\" target=\"_parent\"><img src=\"https://colab.research.google.com/assets/colab-badge.svg\" alt=\"Open In Colab\"/></a>"
      ]
    },
    {
      "cell_type": "code",
      "execution_count": null,
      "metadata": {
        "id": "S_n8N_TcwmmG"
      },
      "outputs": [],
      "source": []
    },
    {
      "cell_type": "markdown",
      "source": [
        "1.A Refer above table and find the joint probability of the people who planned to purchase and actually placed an order"
      ],
      "metadata": {
        "id": "-eF6NFGawrIv"
      }
    },
    {
      "cell_type": "code",
      "source": [
        "people_planned_purchase, total_people = 400, 2000\n",
        "joint_probability = people_planned_purchase/total_people\n",
        "print(\"Joint probability of the people who planned to purchase and actually placed an order.\",joint_probability)"
      ],
      "metadata": {
        "colab": {
          "base_uri": "https://localhost:8080/"
        },
        "id": "yuePRh5Iw8AK",
        "outputId": "9e56e7ca-cabc-462b-8409-5d449a22b938"
      },
      "execution_count": null,
      "outputs": [
        {
          "output_type": "stream",
          "name": "stdout",
          "text": [
            "Joint probability of the people who planned to purchase and actually placed an order. 0.2\n"
          ]
        }
      ]
    },
    {
      "cell_type": "markdown",
      "source": [
        "1.B Refer to the above table and find the joint probability of the people who planned to purchase and actually placed an order, given that\n",
        "people planned to purchase."
      ],
      "metadata": {
        "id": "XE4IdRPTybLX"
      }
    },
    {
      "cell_type": "code",
      "source": [
        "people_planned_purchase, planned_to_purchase_yes_total = 400, 500\n",
        "\n",
        "joint_probability = people_planned_purchase / planned_to_purchase_yes_total\n",
        "\n",
        "print(\"joint probability of the people who planned to purchase and actually placed an order, given that people planned to purchase\", joint_probability)\n"
      ],
      "metadata": {
        "colab": {
          "base_uri": "https://localhost:8080/"
        },
        "id": "A1gDTSQ_ygR9",
        "outputId": "310632d8-af55-42b4-a71c-7903822923af"
      },
      "execution_count": null,
      "outputs": [
        {
          "output_type": "stream",
          "name": "stdout",
          "text": [
            "joint probability of the people who planned to purchase and actually placed an order, given that people planned to purchase 0.8\n"
          ]
        }
      ]
    },
    {
      "cell_type": "markdown",
      "source": [
        "**2. An electrical manufacturing company conducts quality checks at specified periods on the products it manufactures. Historically, the failure rate for the manufactured item is 5%. Suppose a random sample of 10 manufactured items is selected. Answer the following questions**"
      ],
      "metadata": {
        "id": "urCj-Tkj71FG"
      }
    },
    {
      "cell_type": "markdown",
      "source": [
        "2.A Probability that none of the items are defective?"
      ],
      "metadata": {
        "id": "bGlWmYaS8V77"
      }
    },
    {
      "cell_type": "code",
      "source": [
        "from scipy.stats import binom\n",
        "\n",
        "n = 10  # sample size\n",
        "p_defective = 0.05  # probability of an item being defective\n",
        "k = 0  # number of defective items\n",
        "\n",
        "# Calculate the probability\n",
        "probability_none_defective = binom.pmf(k, n, p_defective)\n",
        "\n",
        "print(\"Probability that none of the items are defective:\", probability_none_defective)\n"
      ],
      "metadata": {
        "colab": {
          "base_uri": "https://localhost:8080/"
        },
        "id": "DDpqP5Nm71mz",
        "outputId": "d1762488-0aa5-4a61-eb84-08e3a8485c48"
      },
      "execution_count": 17,
      "outputs": [
        {
          "output_type": "stream",
          "name": "stdout",
          "text": [
            "Probability that none of the items are defective: 0.5987369392383789\n"
          ]
        }
      ]
    },
    {
      "cell_type": "markdown",
      "source": [
        "2.B Probability that exactly one of the items is defective"
      ],
      "metadata": {
        "id": "OUgaSWVB8kdP"
      }
    },
    {
      "cell_type": "code",
      "source": [
        "k = 1  # number of defective items\n",
        "\n",
        "# Calculate the probability\n",
        "probability_one_defective = binom.pmf(k, n, p_defective)\n",
        "\n",
        "# Print the result\n",
        "print(\"Probability that exactly one item is defective:\", probability_one_defective)\n"
      ],
      "metadata": {
        "colab": {
          "base_uri": "https://localhost:8080/"
        },
        "id": "1Dx660OX8lE3",
        "outputId": "5ed49d79-9f83-4b43-b84f-af3f1a746f1b"
      },
      "execution_count": 18,
      "outputs": [
        {
          "output_type": "stream",
          "name": "stdout",
          "text": [
            "Probability that exactly one item is defective: 0.3151247048623047\n"
          ]
        }
      ]
    },
    {
      "cell_type": "markdown",
      "source": [
        "2.C. Probability that two or fewer of the items are defective?"
      ],
      "metadata": {
        "id": "f0wfTs6t9Zb_"
      }
    },
    {
      "cell_type": "code",
      "source": [
        "k = 2  # number of defective items\n",
        "\n",
        "# Calculate the cumulative probability\n",
        "probability_two_or_fewer_defective = binom.cdf(k, n, p_defective)\n",
        "\n",
        "# Print the result\n",
        "print(\"Probability that two or fewer items are defective:\", probability_two_or_fewer_defective)\n"
      ],
      "metadata": {
        "colab": {
          "base_uri": "https://localhost:8080/"
        },
        "id": "H0zovT679Z0o",
        "outputId": "4b569452-ad8b-44e6-888e-1df089a8028e"
      },
      "execution_count": 19,
      "outputs": [
        {
          "output_type": "stream",
          "name": "stdout",
          "text": [
            "Probability that two or fewer items are defective: 0.9884964426207031\n"
          ]
        }
      ]
    },
    {
      "cell_type": "markdown",
      "source": [
        "2.D. Probability that three or more of the items are defective ?"
      ],
      "metadata": {
        "id": "4X-IaMqv97ej"
      }
    },
    {
      "cell_type": "code",
      "source": [
        "k = 3  # number of defective items\n",
        "\n",
        "# Calculate the complement probability\n",
        "probability_three_or_more_defective = 1 - binom.cdf(k - 1, n, p_defective)\n",
        "\n",
        "# Print the result\n",
        "print(\"Probability that three or more items are defective:\", probability_three_or_more_defective)\n"
      ],
      "metadata": {
        "colab": {
          "base_uri": "https://localhost:8080/"
        },
        "id": "S-K7je9Y-A28",
        "outputId": "6eb0441d-8ada-44d8-f318-151da1ac8a63"
      },
      "execution_count": 20,
      "outputs": [
        {
          "output_type": "stream",
          "name": "stdout",
          "text": [
            "Probability that three or more items are defective: 0.01150355737929687\n"
          ]
        }
      ]
    },
    {
      "cell_type": "markdown",
      "source": [
        "**3. A car salesman sells on an average 3 cars per week**"
      ],
      "metadata": {
        "id": "E6YRgmrMJipZ"
      }
    },
    {
      "cell_type": "markdown",
      "source": [
        "3.A. What is Probability that in a given week he will sell some cars?"
      ],
      "metadata": {
        "id": "6EuYR0e1JoQG"
      }
    },
    {
      "cell_type": "code",
      "source": [
        "from scipy.stats import poisson\n",
        "\n",
        "\n",
        "average_cars_sold = 3 # Average number of cars sold per week\n",
        "\n",
        "\n",
        "probability_zero_cars = poisson.pmf(0, average_cars_sold) # Calculate the probability of selling zero cars\n",
        "\n",
        "\n",
        "probability_some_cars = 1 - probability_zero_cars # Calculate the probability of selling some cars\n",
        "\n",
        "print(f\"Probability of selling some cars in a given week: {probability_some_cars}\")\n"
      ],
      "metadata": {
        "colab": {
          "base_uri": "https://localhost:8080/"
        },
        "id": "2D638wSpJ8-V",
        "outputId": "fe25b644-18e8-4924-9c4e-631967a14d0f"
      },
      "execution_count": 21,
      "outputs": [
        {
          "output_type": "stream",
          "name": "stdout",
          "text": [
            "Probability of selling some cars in a given week: 0.950212931632136\n"
          ]
        }
      ]
    },
    {
      "cell_type": "markdown",
      "source": [
        "3.B. What is Probability that in a given week he will sell 2 or more but less than 5 cars?"
      ],
      "metadata": {
        "id": "2ZJPeJaOKdQL"
      }
    },
    {
      "cell_type": "code",
      "source": [
        "probability_less_than_5 = poisson.cdf(4, average_cars_sold) #cumulative probability of selling less than 5 cars\n",
        "\n",
        "\n",
        "probability_less_than_2 = poisson.cdf(1, average_cars_sold) # cumulative probability of selling less than 2 cars\n",
        "\n",
        "\n",
        "probability_2_or_more_and_less_than_5 = probability_less_than_5 - probability_less_than_2 # probability of selling 2 or more but less than 5 cars\n",
        "\n",
        "print(f\"Probability of selling 2 or more but less than 5 cars in a given week: {probability_2_or_more_and_less_than_5}\")"
      ],
      "metadata": {
        "colab": {
          "base_uri": "https://localhost:8080/"
        },
        "id": "DR6k_QHmKlvt",
        "outputId": "37ef4974-9a2f-4868-a2e6-94abd287a7c0"
      },
      "execution_count": 28,
      "outputs": [
        {
          "output_type": "stream",
          "name": "stdout",
          "text": [
            "Probability of selling 2 or more but less than 5 cars in a given week: 0.6161149710523164\n"
          ]
        }
      ]
    },
    {
      "cell_type": "markdown",
      "source": [
        "3.C. Plot the poisson distribution function for cumulative probability of cars sold per-week vs number of cars sold per week."
      ],
      "metadata": {
        "id": "C0sbl4xZRcjk"
      }
    },
    {
      "cell_type": "code",
      "source": [
        "import matplotlib.pyplot as plt\n",
        "import numpy as np\n",
        "\n",
        "x_values = np.arange(0, 11)  # assuming a range from 0 to 10 cars sold\n",
        "\n",
        "\n",
        "cumulative_probabilities = poisson.cdf(x_values, average_cars_sold) # Calculate cumulative probability for each x value\n",
        "\n",
        "# Plot the cumulative probability function\n",
        "plt.plot(x_values, cumulative_probabilities, marker='X')\n",
        "plt.title('Poisson Distribution - Cumulative Probability of Cars Sold per Week')\n",
        "plt.xlabel('Number of Cars Sold per Week')\n",
        "plt.ylabel('Cumulative Probability')\n",
        "plt.grid(True)\n",
        "plt.show()\n"
      ],
      "metadata": {
        "colab": {
          "base_uri": "https://localhost:8080/",
          "height": 472
        },
        "id": "JSy6kDVWRgQK",
        "outputId": "a1a61cea-b767-4c81-fb6c-cd65d07f643e"
      },
      "execution_count": 29,
      "outputs": [
        {
          "output_type": "display_data",
          "data": {
            "text/plain": [
              "<Figure size 640x480 with 1 Axes>"
            ],
            "image/png": "[encoded data removed]"
          },
          "metadata": {}
        }
      ]
    },
    {
      "cell_type": "markdown",
      "source": [
        "**4 Accuracy in understanding orders for a speech based bot at a restaurant is important for the Company X which has designed,\n",
        "marketed and launched the product for a contactless delivery due to the COVID-19 pandemic. Recognition accuracy that measures the\n",
        "percentage of orders that are taken correctly is 86.8%. Suppose that you place an order with the bot and two friends of yours\n",
        "independently place orders with the same bot. Answer the following questions**"
      ],
      "metadata": {
        "id": "QOBCs7SbUu5p"
      }
    },
    {
      "cell_type": "markdown",
      "source": [
        "4.A. What is the probability that all three orders will be recognised correctly?\n",
        "\n",
        "Ans. P (All three orders will be recognized) = P(1 order recognized)* P(2nd order recognized)* P(3rd order recognized)"
      ],
      "metadata": {
        "id": "jB-6-sTTUxd0"
      }
    },
    {
      "cell_type": "code",
      "source": [
        "# fixed number of order\n",
        "n=3\n",
        "\n",
        "# probility of correct recognition\n",
        "p_success=0.868\n",
        "\n",
        "# array of quantities\n",
        "k = np.arange(0,4)\n",
        "\n",
        "binomial1 = binom.cdf(k,n,p)\n",
        "print(f\"Probability that all three orders will be recognized correctly (using binomial distribution): {1-binomial1[2]}\")\n"
      ],
      "metadata": {
        "colab": {
          "base_uri": "https://localhost:8080/"
        },
        "id": "5y5Ez9nIXoXZ",
        "outputId": "e20e4fe4-3c8d-4881-a1f1-5df4d381e0f3"
      },
      "execution_count": 31,
      "outputs": [
        {
          "output_type": "stream",
          "name": "stdout",
          "text": [
            "Probability that all three orders will be recognized correctly (using binomial distribution): 0.653972032\n"
          ]
        }
      ]
    },
    {
      "cell_type": "markdown",
      "source": [
        "4.B. What is the probability that none of the three orders will be recognised correctly?"
      ],
      "metadata": {
        "id": "DFBcMqRj-uJs"
      }
    },
    {
      "cell_type": "code",
      "source": [
        "print(f\"Probability that none of the three orders will be recognized correctly (using binomial distribution): {binomial1[0]}\")\n"
      ],
      "metadata": {
        "colab": {
          "base_uri": "https://localhost:8080/"
        },
        "id": "l9kbnC8RfSPr",
        "outputId": "528636f9-f8e5-47ae-f6b1-af21c84e90cc"
      },
      "execution_count": 32,
      "outputs": [
        {
          "output_type": "stream",
          "name": "stdout",
          "text": [
            "Probability that none of the three orders will be recognized correctly (using binomial distribution): 0.0022999680000000003\n"
          ]
        }
      ]
    },
    {
      "cell_type": "markdown",
      "source": [
        "4.C. What is the probability that at least two of the three orders will be recognised correctly?"
      ],
      "metadata": {
        "id": "Z_v5KhdqfwjA"
      }
    },
    {
      "cell_type": "code",
      "source": [
        "# Probability of exactly two correct orders\n",
        "binom_p=binom.pmf(k,n,p)\n",
        "\n",
        "probability_two_correct_binom = binom_p[2]\n",
        "\n",
        "# Probability of all three correct orders\n",
        "probability_all_correct_binom = binom_p[3]\n",
        "\n",
        "# Probability of at least two correct orders\n",
        "probability_at_least_two_correct_binom = probability_two_correct_binom + probability_all_correct_binom\n",
        "\n",
        "print(f\"Probability that at least two of the three orders will be recognized correctly : {probability_at_least_two_correct_binom}\")\n"
      ],
      "metadata": {
        "colab": {
          "base_uri": "https://localhost:8080/"
        },
        "id": "AB550mtHCnMj",
        "outputId": "286a9cf4-4ab6-4810-9464-c685fcc87e86"
      },
      "execution_count": 33,
      "outputs": [
        {
          "output_type": "stream",
          "name": "stdout",
          "text": [
            "Probability that at least two of the three orders will be recognized correctly : 0.952327936\n"
          ]
        }
      ]
    }
  ]
}